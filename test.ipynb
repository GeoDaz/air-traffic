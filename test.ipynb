{
 "metadata": {
  "language_info": {
   "codemirror_mode": {
    "name": "ipython",
    "version": 3
   },
   "file_extension": ".py",
   "mimetype": "text/x-python",
   "name": "python",
   "nbconvert_exporter": "python",
   "pygments_lexer": "ipython3",
   "version": "3.9.0-final"
  },
  "orig_nbformat": 2,
  "kernelspec": {
   "name": "Python 3.9.0 64-bit",
   "display_name": "Python 3.9.0 64-bit",
   "metadata": {
    "interpreter": {
     "hash": "9880701aa25f573f7b68cc178e3ff1cd03daee726c4d2f6eb7ec9fc750c71af6"
    }
   }
  }
 },
 "nbformat": 4,
 "nbformat_minor": 2,
 "cells": [
  {
   "cell_type": "code",
   "execution_count": 1,
   "metadata": {},
   "outputs": [],
   "source": [
    "import os\n",
    "import pandas as pandas"
   ]
  },
  {
   "cell_type": "code",
   "execution_count": 3,
   "metadata": {},
   "outputs": [
    {
     "output_type": "execute_result",
     "data": {
      "text/plain": [
       "   year  month  day dep_time  sched_dep_time dep_delay arr_time  \\\n",
       "0  2013      1    1      517             515         2      830   \n",
       "1  2013      1    1      533             529         4      850   \n",
       "2  2013      1    1      542             540         2      923   \n",
       "3  2013      1    1      544             545        -1     1004   \n",
       "4  2013      1    1      554             600        -6      812   \n",
       "\n",
       "   sched_arr_time arr_delay carrier  flight tailnum origin dest air_time  \\\n",
       "0             819        11      UA    1545  N14228    EWR  IAH      227   \n",
       "1             830        20      UA    1714  N24211    LGA  IAH      227   \n",
       "2             850        33      AA    1141  N619AA    JFK  MIA      160   \n",
       "3            1022       -18      B6     725  N804JB    JFK  BQN      183   \n",
       "4             837       -25      DL     461  N668DN    LGA  ATL      116   \n",
       "\n",
       "   distance  hour  minute             time_hour  \n",
       "0      1400     5      15  2013-01-01T05:00:00Z  \n",
       "1      1416     5      29  2013-01-01T05:00:00Z  \n",
       "2      1089     5      40  2013-01-01T05:00:00Z  \n",
       "3      1576     5      45  2013-01-01T05:00:00Z  \n",
       "4       762     6       0  2013-01-01T06:00:00Z  "
      ],
      "text/html": "<div>\n<style scoped>\n    .dataframe tbody tr th:only-of-type {\n        vertical-align: middle;\n    }\n\n    .dataframe tbody tr th {\n        vertical-align: top;\n    }\n\n    .dataframe thead th {\n        text-align: right;\n    }\n</style>\n<table border=\"1\" class=\"dataframe\">\n  <thead>\n    <tr style=\"text-align: right;\">\n      <th></th>\n      <th>year</th>\n      <th>month</th>\n      <th>day</th>\n      <th>dep_time</th>\n      <th>sched_dep_time</th>\n      <th>dep_delay</th>\n      <th>arr_time</th>\n      <th>sched_arr_time</th>\n      <th>arr_delay</th>\n      <th>carrier</th>\n      <th>flight</th>\n      <th>tailnum</th>\n      <th>origin</th>\n      <th>dest</th>\n      <th>air_time</th>\n      <th>distance</th>\n      <th>hour</th>\n      <th>minute</th>\n      <th>time_hour</th>\n    </tr>\n  </thead>\n  <tbody>\n    <tr>\n      <th>0</th>\n      <td>2013</td>\n      <td>1</td>\n      <td>1</td>\n      <td>517</td>\n      <td>515</td>\n      <td>2</td>\n      <td>830</td>\n      <td>819</td>\n      <td>11</td>\n      <td>UA</td>\n      <td>1545</td>\n      <td>N14228</td>\n      <td>EWR</td>\n      <td>IAH</td>\n      <td>227</td>\n      <td>1400</td>\n      <td>5</td>\n      <td>15</td>\n      <td>2013-01-01T05:00:00Z</td>\n    </tr>\n    <tr>\n      <th>1</th>\n      <td>2013</td>\n      <td>1</td>\n      <td>1</td>\n      <td>533</td>\n      <td>529</td>\n      <td>4</td>\n      <td>850</td>\n      <td>830</td>\n      <td>20</td>\n      <td>UA</td>\n      <td>1714</td>\n      <td>N24211</td>\n      <td>LGA</td>\n      <td>IAH</td>\n      <td>227</td>\n      <td>1416</td>\n      <td>5</td>\n      <td>29</td>\n      <td>2013-01-01T05:00:00Z</td>\n    </tr>\n    <tr>\n      <th>2</th>\n      <td>2013</td>\n      <td>1</td>\n      <td>1</td>\n      <td>542</td>\n      <td>540</td>\n      <td>2</td>\n      <td>923</td>\n      <td>850</td>\n      <td>33</td>\n      <td>AA</td>\n      <td>1141</td>\n      <td>N619AA</td>\n      <td>JFK</td>\n      <td>MIA</td>\n      <td>160</td>\n      <td>1089</td>\n      <td>5</td>\n      <td>40</td>\n      <td>2013-01-01T05:00:00Z</td>\n    </tr>\n    <tr>\n      <th>3</th>\n      <td>2013</td>\n      <td>1</td>\n      <td>1</td>\n      <td>544</td>\n      <td>545</td>\n      <td>-1</td>\n      <td>1004</td>\n      <td>1022</td>\n      <td>-18</td>\n      <td>B6</td>\n      <td>725</td>\n      <td>N804JB</td>\n      <td>JFK</td>\n      <td>BQN</td>\n      <td>183</td>\n      <td>1576</td>\n      <td>5</td>\n      <td>45</td>\n      <td>2013-01-01T05:00:00Z</td>\n    </tr>\n    <tr>\n      <th>4</th>\n      <td>2013</td>\n      <td>1</td>\n      <td>1</td>\n      <td>554</td>\n      <td>600</td>\n      <td>-6</td>\n      <td>812</td>\n      <td>837</td>\n      <td>-25</td>\n      <td>DL</td>\n      <td>461</td>\n      <td>N668DN</td>\n      <td>LGA</td>\n      <td>ATL</td>\n      <td>116</td>\n      <td>762</td>\n      <td>6</td>\n      <td>0</td>\n      <td>2013-01-01T06:00:00Z</td>\n    </tr>\n  </tbody>\n</table>\n</div>"
     },
     "metadata": {},
     "execution_count": 3
    }
   ],
   "source": [
    "pandas.read_csv('data-csv/flights.csv').head()"
   ]
  },
  {
   "cell_type": "code",
   "execution_count": 4,
   "metadata": {},
   "outputs": [
    {
     "output_type": "execute_result",
     "data": {
      "text/plain": [
       "   faa                           name        lat        lon   alt  tz dst  \\\n",
       "0  04G              Lansdowne Airport  41.130472 -80.619583  1044  -5   A   \n",
       "1  06A  Moton Field Municipal Airport  32.460572 -85.680028   264  -6   A   \n",
       "2  06C            Schaumburg Regional  41.989341 -88.101243   801  -6   A   \n",
       "3  06N                Randall Airport  41.431912 -74.391561   523  -5   A   \n",
       "4  09J          Jekyll Island Airport  31.074472 -81.427778    11  -5   A   \n",
       "\n",
       "              tzone  \n",
       "0  America/New_York  \n",
       "1   America/Chicago  \n",
       "2   America/Chicago  \n",
       "3  America/New_York  \n",
       "4  America/New_York  "
      ],
      "text/html": "<div>\n<style scoped>\n    .dataframe tbody tr th:only-of-type {\n        vertical-align: middle;\n    }\n\n    .dataframe tbody tr th {\n        vertical-align: top;\n    }\n\n    .dataframe thead th {\n        text-align: right;\n    }\n</style>\n<table border=\"1\" class=\"dataframe\">\n  <thead>\n    <tr style=\"text-align: right;\">\n      <th></th>\n      <th>faa</th>\n      <th>name</th>\n      <th>lat</th>\n      <th>lon</th>\n      <th>alt</th>\n      <th>tz</th>\n      <th>dst</th>\n      <th>tzone</th>\n    </tr>\n  </thead>\n  <tbody>\n    <tr>\n      <th>0</th>\n      <td>04G</td>\n      <td>Lansdowne Airport</td>\n      <td>41.130472</td>\n      <td>-80.619583</td>\n      <td>1044</td>\n      <td>-5</td>\n      <td>A</td>\n      <td>America/New_York</td>\n    </tr>\n    <tr>\n      <th>1</th>\n      <td>06A</td>\n      <td>Moton Field Municipal Airport</td>\n      <td>32.460572</td>\n      <td>-85.680028</td>\n      <td>264</td>\n      <td>-6</td>\n      <td>A</td>\n      <td>America/Chicago</td>\n    </tr>\n    <tr>\n      <th>2</th>\n      <td>06C</td>\n      <td>Schaumburg Regional</td>\n      <td>41.989341</td>\n      <td>-88.101243</td>\n      <td>801</td>\n      <td>-6</td>\n      <td>A</td>\n      <td>America/Chicago</td>\n    </tr>\n    <tr>\n      <th>3</th>\n      <td>06N</td>\n      <td>Randall Airport</td>\n      <td>41.431912</td>\n      <td>-74.391561</td>\n      <td>523</td>\n      <td>-5</td>\n      <td>A</td>\n      <td>America/New_York</td>\n    </tr>\n    <tr>\n      <th>4</th>\n      <td>09J</td>\n      <td>Jekyll Island Airport</td>\n      <td>31.074472</td>\n      <td>-81.427778</td>\n      <td>11</td>\n      <td>-5</td>\n      <td>A</td>\n      <td>America/New_York</td>\n    </tr>\n  </tbody>\n</table>\n</div>"
     },
     "metadata": {},
     "execution_count": 4
    }
   ],
   "source": [
    "pandas.read_csv('data-csv/airports.csv').head()"
   ]
  },
  {
   "cell_type": "code",
   "execution_count": 5,
   "metadata": {},
   "outputs": [
    {
     "output_type": "execute_result",
     "data": {
      "text/plain": [
       "  carrier                    name\n",
       "0      9E       Endeavor Air Inc.\n",
       "1      AA  American Airlines Inc.\n",
       "2      AS    Alaska Airlines Inc.\n",
       "3      B6         JetBlue Airways\n",
       "4      DL    Delta Air Lines Inc."
      ],
      "text/html": "<div>\n<style scoped>\n    .dataframe tbody tr th:only-of-type {\n        vertical-align: middle;\n    }\n\n    .dataframe tbody tr th {\n        vertical-align: top;\n    }\n\n    .dataframe thead th {\n        text-align: right;\n    }\n</style>\n<table border=\"1\" class=\"dataframe\">\n  <thead>\n    <tr style=\"text-align: right;\">\n      <th></th>\n      <th>carrier</th>\n      <th>name</th>\n    </tr>\n  </thead>\n  <tbody>\n    <tr>\n      <th>0</th>\n      <td>9E</td>\n      <td>Endeavor Air Inc.</td>\n    </tr>\n    <tr>\n      <th>1</th>\n      <td>AA</td>\n      <td>American Airlines Inc.</td>\n    </tr>\n    <tr>\n      <th>2</th>\n      <td>AS</td>\n      <td>Alaska Airlines Inc.</td>\n    </tr>\n    <tr>\n      <th>3</th>\n      <td>B6</td>\n      <td>JetBlue Airways</td>\n    </tr>\n    <tr>\n      <th>4</th>\n      <td>DL</td>\n      <td>Delta Air Lines Inc.</td>\n    </tr>\n  </tbody>\n</table>\n</div>"
     },
     "metadata": {},
     "execution_count": 5
    }
   ],
   "source": [
    "pandas.read_csv('data-csv/airlines.csv').head()\n"
   ]
  },
  {
   "cell_type": "code",
   "execution_count": 6,
   "metadata": {},
   "outputs": [
    {
     "output_type": "execute_result",
     "data": {
      "text/plain": [
       "  tailnum  year                     type      manufacturer      model  \\\n",
       "0  N10156  2004  Fixed wing multi engine           EMBRAER  EMB-145XR   \n",
       "1  N102UW  1998  Fixed wing multi engine  AIRBUS INDUSTRIE   A320-214   \n",
       "2  N103US  1999  Fixed wing multi engine  AIRBUS INDUSTRIE   A320-214   \n",
       "3  N104UW  1999  Fixed wing multi engine  AIRBUS INDUSTRIE   A320-214   \n",
       "4  N10575  2002  Fixed wing multi engine           EMBRAER  EMB-145LR   \n",
       "\n",
       "   engines  seats speed     engine  \n",
       "0        2     55        Turbo-fan  \n",
       "1        2    182        Turbo-fan  \n",
       "2        2    182        Turbo-fan  \n",
       "3        2    182        Turbo-fan  \n",
       "4        2     55        Turbo-fan  "
      ],
      "text/html": "<div>\n<style scoped>\n    .dataframe tbody tr th:only-of-type {\n        vertical-align: middle;\n    }\n\n    .dataframe tbody tr th {\n        vertical-align: top;\n    }\n\n    .dataframe thead th {\n        text-align: right;\n    }\n</style>\n<table border=\"1\" class=\"dataframe\">\n  <thead>\n    <tr style=\"text-align: right;\">\n      <th></th>\n      <th>tailnum</th>\n      <th>year</th>\n      <th>type</th>\n      <th>manufacturer</th>\n      <th>model</th>\n      <th>engines</th>\n      <th>seats</th>\n      <th>speed</th>\n      <th>engine</th>\n    </tr>\n  </thead>\n  <tbody>\n    <tr>\n      <th>0</th>\n      <td>N10156</td>\n      <td>2004</td>\n      <td>Fixed wing multi engine</td>\n      <td>EMBRAER</td>\n      <td>EMB-145XR</td>\n      <td>2</td>\n      <td>55</td>\n      <td></td>\n      <td>Turbo-fan</td>\n    </tr>\n    <tr>\n      <th>1</th>\n      <td>N102UW</td>\n      <td>1998</td>\n      <td>Fixed wing multi engine</td>\n      <td>AIRBUS INDUSTRIE</td>\n      <td>A320-214</td>\n      <td>2</td>\n      <td>182</td>\n      <td></td>\n      <td>Turbo-fan</td>\n    </tr>\n    <tr>\n      <th>2</th>\n      <td>N103US</td>\n      <td>1999</td>\n      <td>Fixed wing multi engine</td>\n      <td>AIRBUS INDUSTRIE</td>\n      <td>A320-214</td>\n      <td>2</td>\n      <td>182</td>\n      <td></td>\n      <td>Turbo-fan</td>\n    </tr>\n    <tr>\n      <th>3</th>\n      <td>N104UW</td>\n      <td>1999</td>\n      <td>Fixed wing multi engine</td>\n      <td>AIRBUS INDUSTRIE</td>\n      <td>A320-214</td>\n      <td>2</td>\n      <td>182</td>\n      <td></td>\n      <td>Turbo-fan</td>\n    </tr>\n    <tr>\n      <th>4</th>\n      <td>N10575</td>\n      <td>2002</td>\n      <td>Fixed wing multi engine</td>\n      <td>EMBRAER</td>\n      <td>EMB-145LR</td>\n      <td>2</td>\n      <td>55</td>\n      <td></td>\n      <td>Turbo-fan</td>\n    </tr>\n  </tbody>\n</table>\n</div>"
     },
     "metadata": {},
     "execution_count": 6
    }
   ],
   "source": [
    "pandas.read_csv('data-csv/planes.csv').head()"
   ]
  },
  {
   "cell_type": "code",
   "execution_count": 7,
   "metadata": {},
   "outputs": [
    {
     "output_type": "execute_result",
     "data": {
      "text/plain": [
       "  origin  year  month  day  hour   temp   dewp  humid wind_dir  \\\n",
       "0    EWR  2013      1    1     0  37.04  21.92  53.97      230   \n",
       "1    EWR  2013      1    1     1  37.04  21.92  53.97      230   \n",
       "2    EWR  2013      1    1     2  37.94  21.92  52.09      230   \n",
       "3    EWR  2013      1    1     3  37.94     23  54.51      230   \n",
       "4    EWR  2013      1    1     4  37.94  24.08  57.04      240   \n",
       "\n",
       "           wind_speed           wind_gust  precip pressure  visib  \\\n",
       "0  10.357019999999999  11.918651475599997     0.0   1013.9   10.0   \n",
       "1  13.809359999999998  15.891535300799996     0.0     1013   10.0   \n",
       "2  12.658579999999999  14.567240692399997     0.0   1012.6   10.0   \n",
       "3  13.809359999999998  15.891535300799996     0.0   1012.7   10.0   \n",
       "4  14.960139999999999  17.215829909199996     0.0   1012.8   10.0   \n",
       "\n",
       "              time_hour  \n",
       "0  2013-01-01T00:00:00Z  \n",
       "1  2013-01-01T01:00:00Z  \n",
       "2  2013-01-01T02:00:00Z  \n",
       "3  2013-01-01T03:00:00Z  \n",
       "4  2013-01-01T04:00:00Z  "
      ],
      "text/html": "<div>\n<style scoped>\n    .dataframe tbody tr th:only-of-type {\n        vertical-align: middle;\n    }\n\n    .dataframe tbody tr th {\n        vertical-align: top;\n    }\n\n    .dataframe thead th {\n        text-align: right;\n    }\n</style>\n<table border=\"1\" class=\"dataframe\">\n  <thead>\n    <tr style=\"text-align: right;\">\n      <th></th>\n      <th>origin</th>\n      <th>year</th>\n      <th>month</th>\n      <th>day</th>\n      <th>hour</th>\n      <th>temp</th>\n      <th>dewp</th>\n      <th>humid</th>\n      <th>wind_dir</th>\n      <th>wind_speed</th>\n      <th>wind_gust</th>\n      <th>precip</th>\n      <th>pressure</th>\n      <th>visib</th>\n      <th>time_hour</th>\n    </tr>\n  </thead>\n  <tbody>\n    <tr>\n      <th>0</th>\n      <td>EWR</td>\n      <td>2013</td>\n      <td>1</td>\n      <td>1</td>\n      <td>0</td>\n      <td>37.04</td>\n      <td>21.92</td>\n      <td>53.97</td>\n      <td>230</td>\n      <td>10.357019999999999</td>\n      <td>11.918651475599997</td>\n      <td>0.0</td>\n      <td>1013.9</td>\n      <td>10.0</td>\n      <td>2013-01-01T00:00:00Z</td>\n    </tr>\n    <tr>\n      <th>1</th>\n      <td>EWR</td>\n      <td>2013</td>\n      <td>1</td>\n      <td>1</td>\n      <td>1</td>\n      <td>37.04</td>\n      <td>21.92</td>\n      <td>53.97</td>\n      <td>230</td>\n      <td>13.809359999999998</td>\n      <td>15.891535300799996</td>\n      <td>0.0</td>\n      <td>1013</td>\n      <td>10.0</td>\n      <td>2013-01-01T01:00:00Z</td>\n    </tr>\n    <tr>\n      <th>2</th>\n      <td>EWR</td>\n      <td>2013</td>\n      <td>1</td>\n      <td>1</td>\n      <td>2</td>\n      <td>37.94</td>\n      <td>21.92</td>\n      <td>52.09</td>\n      <td>230</td>\n      <td>12.658579999999999</td>\n      <td>14.567240692399997</td>\n      <td>0.0</td>\n      <td>1012.6</td>\n      <td>10.0</td>\n      <td>2013-01-01T02:00:00Z</td>\n    </tr>\n    <tr>\n      <th>3</th>\n      <td>EWR</td>\n      <td>2013</td>\n      <td>1</td>\n      <td>1</td>\n      <td>3</td>\n      <td>37.94</td>\n      <td>23</td>\n      <td>54.51</td>\n      <td>230</td>\n      <td>13.809359999999998</td>\n      <td>15.891535300799996</td>\n      <td>0.0</td>\n      <td>1012.7</td>\n      <td>10.0</td>\n      <td>2013-01-01T03:00:00Z</td>\n    </tr>\n    <tr>\n      <th>4</th>\n      <td>EWR</td>\n      <td>2013</td>\n      <td>1</td>\n      <td>1</td>\n      <td>4</td>\n      <td>37.94</td>\n      <td>24.08</td>\n      <td>57.04</td>\n      <td>240</td>\n      <td>14.960139999999999</td>\n      <td>17.215829909199996</td>\n      <td>0.0</td>\n      <td>1012.8</td>\n      <td>10.0</td>\n      <td>2013-01-01T04:00:00Z</td>\n    </tr>\n  </tbody>\n</table>\n</div>"
     },
     "metadata": {},
     "execution_count": 7
    }
   ],
   "source": [
    "pandas.read_csv('data-csv/weather.csv').head()"
   ]
  },
  {
   "cell_type": "code",
   "execution_count": null,
   "metadata": {},
   "outputs": [],
   "source": []
  }
 ]
}