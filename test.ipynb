{
 "metadata": {
  "language_info": {
   "codemirror_mode": {
    "name": "ipython",
    "version": 3
   },
   "file_extension": ".py",
   "mimetype": "text/x-python",
   "name": "python",
   "nbconvert_exporter": "python",
   "pygments_lexer": "ipython3",
   "version": "3.9.0-final"
  },
  "orig_nbformat": 2,
  "kernelspec": {
   "name": "Python 3.9.0 64-bit",
   "display_name": "Python 3.9.0 64-bit",
   "metadata": {
    "interpreter": {
     "hash": "9880701aa25f573f7b68cc178e3ff1cd03daee726c4d2f6eb7ec9fc750c71af6"
    }
   }
  }
 },
 "nbformat": 4,
 "nbformat_minor": 2,
 "cells": [
  {
   "cell_type": "code",
   "execution_count": 18,
   "metadata": {},
   "outputs": [],
   "source": [
    "import os\n",
    "import pandas as pandas"
   ]
  },
  {
   "cell_type": "code",
   "execution_count": 39,
   "metadata": {},
   "outputs": [
    {
     "output_type": "execute_result",
     "data": {
      "text/plain": [
       "        year  month  day dep_time  sched_dep_time dep_delay arr_time  \\\n",
       "0       2013      1    1      517             515         2      830   \n",
       "1       2013      1    1      533             529         4      850   \n",
       "2       2013      1    1      542             540         2      923   \n",
       "3       2013      1    1      544             545        -1     1004   \n",
       "4       2013      1    1      554             600        -6      812   \n",
       "...      ...    ...  ...      ...             ...       ...      ...   \n",
       "336771  2013      9   30                     1455                      \n",
       "336772  2013      9   30                     2200                      \n",
       "336773  2013      9   30                     1210                      \n",
       "336774  2013      9   30                     1159                      \n",
       "336775  2013      9   30                      840                      \n",
       "\n",
       "        sched_arr_time arr_delay carrier  flight tailnum origin dest air_time  \\\n",
       "0                  819        11      UA    1545  N14228    EWR  IAH      227   \n",
       "1                  830        20      UA    1714  N24211    LGA  IAH      227   \n",
       "2                  850        33      AA    1141  N619AA    JFK  MIA      160   \n",
       "3                 1022       -18      B6     725  N804JB    JFK  BQN      183   \n",
       "4                  837       -25      DL     461  N668DN    LGA  ATL      116   \n",
       "...                ...       ...     ...     ...     ...    ...  ...      ...   \n",
       "336771            1634                9E    3393            JFK  DCA            \n",
       "336772            2312                9E    3525            LGA  SYR            \n",
       "336773            1330                MQ    3461  N535MQ    LGA  BNA            \n",
       "336774            1344                MQ    3572  N511MQ    LGA  CLE            \n",
       "336775            1020                MQ    3531  N839MQ    LGA  RDU            \n",
       "\n",
       "        distance  hour  minute             time_hour  \n",
       "0           1400     5      15  2013-01-01T05:00:00Z  \n",
       "1           1416     5      29  2013-01-01T05:00:00Z  \n",
       "2           1089     5      40  2013-01-01T05:00:00Z  \n",
       "3           1576     5      45  2013-01-01T05:00:00Z  \n",
       "4            762     6       0  2013-01-01T06:00:00Z  \n",
       "...          ...   ...     ...                   ...  \n",
       "336771       213    14      55  2013-09-30T14:00:00Z  \n",
       "336772       198    22       0  2013-09-30T22:00:00Z  \n",
       "336773       764    12      10  2013-09-30T12:00:00Z  \n",
       "336774       419    11      59  2013-09-30T11:00:00Z  \n",
       "336775       431     8      40  2013-09-30T08:00:00Z  \n",
       "\n",
       "[336776 rows x 19 columns]"
      ],
      "text/html": "<div>\n<style scoped>\n    .dataframe tbody tr th:only-of-type {\n        vertical-align: middle;\n    }\n\n    .dataframe tbody tr th {\n        vertical-align: top;\n    }\n\n    .dataframe thead th {\n        text-align: right;\n    }\n</style>\n<table border=\"1\" class=\"dataframe\">\n  <thead>\n    <tr style=\"text-align: right;\">\n      <th></th>\n      <th>year</th>\n      <th>month</th>\n      <th>day</th>\n      <th>dep_time</th>\n      <th>sched_dep_time</th>\n      <th>dep_delay</th>\n      <th>arr_time</th>\n      <th>sched_arr_time</th>\n      <th>arr_delay</th>\n      <th>carrier</th>\n      <th>flight</th>\n      <th>tailnum</th>\n      <th>origin</th>\n      <th>dest</th>\n      <th>air_time</th>\n      <th>distance</th>\n      <th>hour</th>\n      <th>minute</th>\n      <th>time_hour</th>\n    </tr>\n  </thead>\n  <tbody>\n    <tr>\n      <th>0</th>\n      <td>2013</td>\n      <td>1</td>\n      <td>1</td>\n      <td>517</td>\n      <td>515</td>\n      <td>2</td>\n      <td>830</td>\n      <td>819</td>\n      <td>11</td>\n      <td>UA</td>\n      <td>1545</td>\n      <td>N14228</td>\n      <td>EWR</td>\n      <td>IAH</td>\n      <td>227</td>\n      <td>1400</td>\n      <td>5</td>\n      <td>15</td>\n      <td>2013-01-01T05:00:00Z</td>\n    </tr>\n    <tr>\n      <th>1</th>\n      <td>2013</td>\n      <td>1</td>\n      <td>1</td>\n      <td>533</td>\n      <td>529</td>\n      <td>4</td>\n      <td>850</td>\n      <td>830</td>\n      <td>20</td>\n      <td>UA</td>\n      <td>1714</td>\n      <td>N24211</td>\n      <td>LGA</td>\n      <td>IAH</td>\n      <td>227</td>\n      <td>1416</td>\n      <td>5</td>\n      <td>29</td>\n      <td>2013-01-01T05:00:00Z</td>\n    </tr>\n    <tr>\n      <th>2</th>\n      <td>2013</td>\n      <td>1</td>\n      <td>1</td>\n      <td>542</td>\n      <td>540</td>\n      <td>2</td>\n      <td>923</td>\n      <td>850</td>\n      <td>33</td>\n      <td>AA</td>\n      <td>1141</td>\n      <td>N619AA</td>\n      <td>JFK</td>\n      <td>MIA</td>\n      <td>160</td>\n      <td>1089</td>\n      <td>5</td>\n      <td>40</td>\n      <td>2013-01-01T05:00:00Z</td>\n    </tr>\n    <tr>\n      <th>3</th>\n      <td>2013</td>\n      <td>1</td>\n      <td>1</td>\n      <td>544</td>\n      <td>545</td>\n      <td>-1</td>\n      <td>1004</td>\n      <td>1022</td>\n      <td>-18</td>\n      <td>B6</td>\n      <td>725</td>\n      <td>N804JB</td>\n      <td>JFK</td>\n      <td>BQN</td>\n      <td>183</td>\n      <td>1576</td>\n      <td>5</td>\n      <td>45</td>\n      <td>2013-01-01T05:00:00Z</td>\n    </tr>\n    <tr>\n      <th>4</th>\n      <td>2013</td>\n      <td>1</td>\n      <td>1</td>\n      <td>554</td>\n      <td>600</td>\n      <td>-6</td>\n      <td>812</td>\n      <td>837</td>\n      <td>-25</td>\n      <td>DL</td>\n      <td>461</td>\n      <td>N668DN</td>\n      <td>LGA</td>\n      <td>ATL</td>\n      <td>116</td>\n      <td>762</td>\n      <td>6</td>\n      <td>0</td>\n      <td>2013-01-01T06:00:00Z</td>\n    </tr>\n    <tr>\n      <th>...</th>\n      <td>...</td>\n      <td>...</td>\n      <td>...</td>\n      <td>...</td>\n      <td>...</td>\n      <td>...</td>\n      <td>...</td>\n      <td>...</td>\n      <td>...</td>\n      <td>...</td>\n      <td>...</td>\n      <td>...</td>\n      <td>...</td>\n      <td>...</td>\n      <td>...</td>\n      <td>...</td>\n      <td>...</td>\n      <td>...</td>\n      <td>...</td>\n    </tr>\n    <tr>\n      <th>336771</th>\n      <td>2013</td>\n      <td>9</td>\n      <td>30</td>\n      <td></td>\n      <td>1455</td>\n      <td></td>\n      <td></td>\n      <td>1634</td>\n      <td></td>\n      <td>9E</td>\n      <td>3393</td>\n      <td></td>\n      <td>JFK</td>\n      <td>DCA</td>\n      <td></td>\n      <td>213</td>\n      <td>14</td>\n      <td>55</td>\n      <td>2013-09-30T14:00:00Z</td>\n    </tr>\n    <tr>\n      <th>336772</th>\n      <td>2013</td>\n      <td>9</td>\n      <td>30</td>\n      <td></td>\n      <td>2200</td>\n      <td></td>\n      <td></td>\n      <td>2312</td>\n      <td></td>\n      <td>9E</td>\n      <td>3525</td>\n      <td></td>\n      <td>LGA</td>\n      <td>SYR</td>\n      <td></td>\n      <td>198</td>\n      <td>22</td>\n      <td>0</td>\n      <td>2013-09-30T22:00:00Z</td>\n    </tr>\n    <tr>\n      <th>336773</th>\n      <td>2013</td>\n      <td>9</td>\n      <td>30</td>\n      <td></td>\n      <td>1210</td>\n      <td></td>\n      <td></td>\n      <td>1330</td>\n      <td></td>\n      <td>MQ</td>\n      <td>3461</td>\n      <td>N535MQ</td>\n      <td>LGA</td>\n      <td>BNA</td>\n      <td></td>\n      <td>764</td>\n      <td>12</td>\n      <td>10</td>\n      <td>2013-09-30T12:00:00Z</td>\n    </tr>\n    <tr>\n      <th>336774</th>\n      <td>2013</td>\n      <td>9</td>\n      <td>30</td>\n      <td></td>\n      <td>1159</td>\n      <td></td>\n      <td></td>\n      <td>1344</td>\n      <td></td>\n      <td>MQ</td>\n      <td>3572</td>\n      <td>N511MQ</td>\n      <td>LGA</td>\n      <td>CLE</td>\n      <td></td>\n      <td>419</td>\n      <td>11</td>\n      <td>59</td>\n      <td>2013-09-30T11:00:00Z</td>\n    </tr>\n    <tr>\n      <th>336775</th>\n      <td>2013</td>\n      <td>9</td>\n      <td>30</td>\n      <td></td>\n      <td>840</td>\n      <td></td>\n      <td></td>\n      <td>1020</td>\n      <td></td>\n      <td>MQ</td>\n      <td>3531</td>\n      <td>N839MQ</td>\n      <td>LGA</td>\n      <td>RDU</td>\n      <td></td>\n      <td>431</td>\n      <td>8</td>\n      <td>40</td>\n      <td>2013-09-30T08:00:00Z</td>\n    </tr>\n  </tbody>\n</table>\n<p>336776 rows × 19 columns</p>\n</div>"
     },
     "metadata": {},
     "execution_count": 39
    }
   ],
   "source": [
    "flights = pandas.read_csv('data-csv/flights.csv')\n",
    "flights"
   ]
  },
  {
   "cell_type": "code",
   "execution_count": 20,
   "metadata": {},
   "outputs": [
    {
     "output_type": "execute_result",
     "data": {
      "text/plain": [
       "      faa                           name        lat         lon   alt  tz dst  \\\n",
       "0     04G              Lansdowne Airport  41.130472  -80.619583  1044  -5   A   \n",
       "1     06A  Moton Field Municipal Airport  32.460572  -85.680028   264  -6   A   \n",
       "2     06C            Schaumburg Regional  41.989341  -88.101243   801  -6   A   \n",
       "3     06N                Randall Airport  41.431912  -74.391561   523  -5   A   \n",
       "4     09J          Jekyll Island Airport  31.074472  -81.427778    11  -5   A   \n",
       "...   ...                            ...        ...         ...   ...  ..  ..   \n",
       "1453  ZUN                     Black Rock  35.083228 -108.791778  6454  -7   A   \n",
       "1454  ZVE         New Haven Rail Station  41.298669  -72.925992     7  -5   A   \n",
       "1455  ZWI      Wilmington Amtrak Station  39.736667  -75.551667     0  -5   A   \n",
       "1456  ZWU       Washington Union Station  38.897460  -77.006430    76  -5   A   \n",
       "1457  ZYP                   Penn Station  40.750500  -73.993500    35  -5   A   \n",
       "\n",
       "                 tzone  \n",
       "0     America/New_York  \n",
       "1      America/Chicago  \n",
       "2      America/Chicago  \n",
       "3     America/New_York  \n",
       "4     America/New_York  \n",
       "...                ...  \n",
       "1453    America/Denver  \n",
       "1454  America/New_York  \n",
       "1455  America/New_York  \n",
       "1456  America/New_York  \n",
       "1457  America/New_York  \n",
       "\n",
       "[1458 rows x 8 columns]"
      ],
      "text/html": "<div>\n<style scoped>\n    .dataframe tbody tr th:only-of-type {\n        vertical-align: middle;\n    }\n\n    .dataframe tbody tr th {\n        vertical-align: top;\n    }\n\n    .dataframe thead th {\n        text-align: right;\n    }\n</style>\n<table border=\"1\" class=\"dataframe\">\n  <thead>\n    <tr style=\"text-align: right;\">\n      <th></th>\n      <th>faa</th>\n      <th>name</th>\n      <th>lat</th>\n      <th>lon</th>\n      <th>alt</th>\n      <th>tz</th>\n      <th>dst</th>\n      <th>tzone</th>\n    </tr>\n  </thead>\n  <tbody>\n    <tr>\n      <th>0</th>\n      <td>04G</td>\n      <td>Lansdowne Airport</td>\n      <td>41.130472</td>\n      <td>-80.619583</td>\n      <td>1044</td>\n      <td>-5</td>\n      <td>A</td>\n      <td>America/New_York</td>\n    </tr>\n    <tr>\n      <th>1</th>\n      <td>06A</td>\n      <td>Moton Field Municipal Airport</td>\n      <td>32.460572</td>\n      <td>-85.680028</td>\n      <td>264</td>\n      <td>-6</td>\n      <td>A</td>\n      <td>America/Chicago</td>\n    </tr>\n    <tr>\n      <th>2</th>\n      <td>06C</td>\n      <td>Schaumburg Regional</td>\n      <td>41.989341</td>\n      <td>-88.101243</td>\n      <td>801</td>\n      <td>-6</td>\n      <td>A</td>\n      <td>America/Chicago</td>\n    </tr>\n    <tr>\n      <th>3</th>\n      <td>06N</td>\n      <td>Randall Airport</td>\n      <td>41.431912</td>\n      <td>-74.391561</td>\n      <td>523</td>\n      <td>-5</td>\n      <td>A</td>\n      <td>America/New_York</td>\n    </tr>\n    <tr>\n      <th>4</th>\n      <td>09J</td>\n      <td>Jekyll Island Airport</td>\n      <td>31.074472</td>\n      <td>-81.427778</td>\n      <td>11</td>\n      <td>-5</td>\n      <td>A</td>\n      <td>America/New_York</td>\n    </tr>\n    <tr>\n      <th>...</th>\n      <td>...</td>\n      <td>...</td>\n      <td>...</td>\n      <td>...</td>\n      <td>...</td>\n      <td>...</td>\n      <td>...</td>\n      <td>...</td>\n    </tr>\n    <tr>\n      <th>1453</th>\n      <td>ZUN</td>\n      <td>Black Rock</td>\n      <td>35.083228</td>\n      <td>-108.791778</td>\n      <td>6454</td>\n      <td>-7</td>\n      <td>A</td>\n      <td>America/Denver</td>\n    </tr>\n    <tr>\n      <th>1454</th>\n      <td>ZVE</td>\n      <td>New Haven Rail Station</td>\n      <td>41.298669</td>\n      <td>-72.925992</td>\n      <td>7</td>\n      <td>-5</td>\n      <td>A</td>\n      <td>America/New_York</td>\n    </tr>\n    <tr>\n      <th>1455</th>\n      <td>ZWI</td>\n      <td>Wilmington Amtrak Station</td>\n      <td>39.736667</td>\n      <td>-75.551667</td>\n      <td>0</td>\n      <td>-5</td>\n      <td>A</td>\n      <td>America/New_York</td>\n    </tr>\n    <tr>\n      <th>1456</th>\n      <td>ZWU</td>\n      <td>Washington Union Station</td>\n      <td>38.897460</td>\n      <td>-77.006430</td>\n      <td>76</td>\n      <td>-5</td>\n      <td>A</td>\n      <td>America/New_York</td>\n    </tr>\n    <tr>\n      <th>1457</th>\n      <td>ZYP</td>\n      <td>Penn Station</td>\n      <td>40.750500</td>\n      <td>-73.993500</td>\n      <td>35</td>\n      <td>-5</td>\n      <td>A</td>\n      <td>America/New_York</td>\n    </tr>\n  </tbody>\n</table>\n<p>1458 rows × 8 columns</p>\n</div>"
     },
     "metadata": {},
     "execution_count": 20
    }
   ],
   "source": [
    "airports = pandas.read_csv('data-csv/airports.csv')\n",
    "airports"
   ]
  },
  {
   "cell_type": "code",
   "execution_count": 40,
   "metadata": {},
   "outputs": [
    {
     "output_type": "execute_result",
     "data": {
      "text/plain": [
       "   carrier                         name\n",
       "0       9E            Endeavor Air Inc.\n",
       "1       AA       American Airlines Inc.\n",
       "2       AS         Alaska Airlines Inc.\n",
       "3       B6              JetBlue Airways\n",
       "4       DL         Delta Air Lines Inc.\n",
       "5       EV     ExpressJet Airlines Inc.\n",
       "6       F9       Frontier Airlines Inc.\n",
       "7       FL  AirTran Airways Corporation\n",
       "8       HA       Hawaiian Airlines Inc.\n",
       "9       MQ                    Envoy Air\n",
       "10      OO        SkyWest Airlines Inc.\n",
       "11      UA        United Air Lines Inc.\n",
       "12      US              US Airways Inc.\n",
       "13      VX               Virgin America\n",
       "14      WN       Southwest Airlines Co.\n",
       "15      YV           Mesa Airlines Inc."
      ],
      "text/html": "<div>\n<style scoped>\n    .dataframe tbody tr th:only-of-type {\n        vertical-align: middle;\n    }\n\n    .dataframe tbody tr th {\n        vertical-align: top;\n    }\n\n    .dataframe thead th {\n        text-align: right;\n    }\n</style>\n<table border=\"1\" class=\"dataframe\">\n  <thead>\n    <tr style=\"text-align: right;\">\n      <th></th>\n      <th>carrier</th>\n      <th>name</th>\n    </tr>\n  </thead>\n  <tbody>\n    <tr>\n      <th>0</th>\n      <td>9E</td>\n      <td>Endeavor Air Inc.</td>\n    </tr>\n    <tr>\n      <th>1</th>\n      <td>AA</td>\n      <td>American Airlines Inc.</td>\n    </tr>\n    <tr>\n      <th>2</th>\n      <td>AS</td>\n      <td>Alaska Airlines Inc.</td>\n    </tr>\n    <tr>\n      <th>3</th>\n      <td>B6</td>\n      <td>JetBlue Airways</td>\n    </tr>\n    <tr>\n      <th>4</th>\n      <td>DL</td>\n      <td>Delta Air Lines Inc.</td>\n    </tr>\n    <tr>\n      <th>5</th>\n      <td>EV</td>\n      <td>ExpressJet Airlines Inc.</td>\n    </tr>\n    <tr>\n      <th>6</th>\n      <td>F9</td>\n      <td>Frontier Airlines Inc.</td>\n    </tr>\n    <tr>\n      <th>7</th>\n      <td>FL</td>\n      <td>AirTran Airways Corporation</td>\n    </tr>\n    <tr>\n      <th>8</th>\n      <td>HA</td>\n      <td>Hawaiian Airlines Inc.</td>\n    </tr>\n    <tr>\n      <th>9</th>\n      <td>MQ</td>\n      <td>Envoy Air</td>\n    </tr>\n    <tr>\n      <th>10</th>\n      <td>OO</td>\n      <td>SkyWest Airlines Inc.</td>\n    </tr>\n    <tr>\n      <th>11</th>\n      <td>UA</td>\n      <td>United Air Lines Inc.</td>\n    </tr>\n    <tr>\n      <th>12</th>\n      <td>US</td>\n      <td>US Airways Inc.</td>\n    </tr>\n    <tr>\n      <th>13</th>\n      <td>VX</td>\n      <td>Virgin America</td>\n    </tr>\n    <tr>\n      <th>14</th>\n      <td>WN</td>\n      <td>Southwest Airlines Co.</td>\n    </tr>\n    <tr>\n      <th>15</th>\n      <td>YV</td>\n      <td>Mesa Airlines Inc.</td>\n    </tr>\n  </tbody>\n</table>\n</div>"
     },
     "metadata": {},
     "execution_count": 40
    }
   ],
   "source": [
    "airlines = pandas.read_csv('data-csv/airlines.csv')\n",
    "airlines"
   ]
  },
  {
   "cell_type": "code",
   "execution_count": 41,
   "metadata": {},
   "outputs": [
    {
     "output_type": "execute_result",
     "data": {
      "text/plain": [
       "     tailnum  year                     type                   manufacturer  \\\n",
       "0     N10156  2004  Fixed wing multi engine                        EMBRAER   \n",
       "1     N102UW  1998  Fixed wing multi engine               AIRBUS INDUSTRIE   \n",
       "2     N103US  1999  Fixed wing multi engine               AIRBUS INDUSTRIE   \n",
       "3     N104UW  1999  Fixed wing multi engine               AIRBUS INDUSTRIE   \n",
       "4     N10575  2002  Fixed wing multi engine                        EMBRAER   \n",
       "...      ...   ...                      ...                            ...   \n",
       "3317  N997AT  2002  Fixed wing multi engine                         BOEING   \n",
       "3318  N997DL  1992  Fixed wing multi engine  MCDONNELL DOUGLAS AIRCRAFT CO   \n",
       "3319  N998AT  2002  Fixed wing multi engine                         BOEING   \n",
       "3320  N998DL  1992  Fixed wing multi engine  MCDONNELL DOUGLAS CORPORATION   \n",
       "3321  N999DN  1992  Fixed wing multi engine  MCDONNELL DOUGLAS CORPORATION   \n",
       "\n",
       "          model  engines  seats speed     engine  \n",
       "0     EMB-145XR        2     55        Turbo-fan  \n",
       "1      A320-214        2    182        Turbo-fan  \n",
       "2      A320-214        2    182        Turbo-fan  \n",
       "3      A320-214        2    182        Turbo-fan  \n",
       "4     EMB-145LR        2     55        Turbo-fan  \n",
       "...         ...      ...    ...   ...        ...  \n",
       "3317    717-200        2    100        Turbo-fan  \n",
       "3318      MD-88        2    142        Turbo-fan  \n",
       "3319    717-200        2    100        Turbo-fan  \n",
       "3320      MD-88        2    142        Turbo-jet  \n",
       "3321      MD-88        2    142        Turbo-jet  \n",
       "\n",
       "[3322 rows x 9 columns]"
      ],
      "text/html": "<div>\n<style scoped>\n    .dataframe tbody tr th:only-of-type {\n        vertical-align: middle;\n    }\n\n    .dataframe tbody tr th {\n        vertical-align: top;\n    }\n\n    .dataframe thead th {\n        text-align: right;\n    }\n</style>\n<table border=\"1\" class=\"dataframe\">\n  <thead>\n    <tr style=\"text-align: right;\">\n      <th></th>\n      <th>tailnum</th>\n      <th>year</th>\n      <th>type</th>\n      <th>manufacturer</th>\n      <th>model</th>\n      <th>engines</th>\n      <th>seats</th>\n      <th>speed</th>\n      <th>engine</th>\n    </tr>\n  </thead>\n  <tbody>\n    <tr>\n      <th>0</th>\n      <td>N10156</td>\n      <td>2004</td>\n      <td>Fixed wing multi engine</td>\n      <td>EMBRAER</td>\n      <td>EMB-145XR</td>\n      <td>2</td>\n      <td>55</td>\n      <td></td>\n      <td>Turbo-fan</td>\n    </tr>\n    <tr>\n      <th>1</th>\n      <td>N102UW</td>\n      <td>1998</td>\n      <td>Fixed wing multi engine</td>\n      <td>AIRBUS INDUSTRIE</td>\n      <td>A320-214</td>\n      <td>2</td>\n      <td>182</td>\n      <td></td>\n      <td>Turbo-fan</td>\n    </tr>\n    <tr>\n      <th>2</th>\n      <td>N103US</td>\n      <td>1999</td>\n      <td>Fixed wing multi engine</td>\n      <td>AIRBUS INDUSTRIE</td>\n      <td>A320-214</td>\n      <td>2</td>\n      <td>182</td>\n      <td></td>\n      <td>Turbo-fan</td>\n    </tr>\n    <tr>\n      <th>3</th>\n      <td>N104UW</td>\n      <td>1999</td>\n      <td>Fixed wing multi engine</td>\n      <td>AIRBUS INDUSTRIE</td>\n      <td>A320-214</td>\n      <td>2</td>\n      <td>182</td>\n      <td></td>\n      <td>Turbo-fan</td>\n    </tr>\n    <tr>\n      <th>4</th>\n      <td>N10575</td>\n      <td>2002</td>\n      <td>Fixed wing multi engine</td>\n      <td>EMBRAER</td>\n      <td>EMB-145LR</td>\n      <td>2</td>\n      <td>55</td>\n      <td></td>\n      <td>Turbo-fan</td>\n    </tr>\n    <tr>\n      <th>...</th>\n      <td>...</td>\n      <td>...</td>\n      <td>...</td>\n      <td>...</td>\n      <td>...</td>\n      <td>...</td>\n      <td>...</td>\n      <td>...</td>\n      <td>...</td>\n    </tr>\n    <tr>\n      <th>3317</th>\n      <td>N997AT</td>\n      <td>2002</td>\n      <td>Fixed wing multi engine</td>\n      <td>BOEING</td>\n      <td>717-200</td>\n      <td>2</td>\n      <td>100</td>\n      <td></td>\n      <td>Turbo-fan</td>\n    </tr>\n    <tr>\n      <th>3318</th>\n      <td>N997DL</td>\n      <td>1992</td>\n      <td>Fixed wing multi engine</td>\n      <td>MCDONNELL DOUGLAS AIRCRAFT CO</td>\n      <td>MD-88</td>\n      <td>2</td>\n      <td>142</td>\n      <td></td>\n      <td>Turbo-fan</td>\n    </tr>\n    <tr>\n      <th>3319</th>\n      <td>N998AT</td>\n      <td>2002</td>\n      <td>Fixed wing multi engine</td>\n      <td>BOEING</td>\n      <td>717-200</td>\n      <td>2</td>\n      <td>100</td>\n      <td></td>\n      <td>Turbo-fan</td>\n    </tr>\n    <tr>\n      <th>3320</th>\n      <td>N998DL</td>\n      <td>1992</td>\n      <td>Fixed wing multi engine</td>\n      <td>MCDONNELL DOUGLAS CORPORATION</td>\n      <td>MD-88</td>\n      <td>2</td>\n      <td>142</td>\n      <td></td>\n      <td>Turbo-jet</td>\n    </tr>\n    <tr>\n      <th>3321</th>\n      <td>N999DN</td>\n      <td>1992</td>\n      <td>Fixed wing multi engine</td>\n      <td>MCDONNELL DOUGLAS CORPORATION</td>\n      <td>MD-88</td>\n      <td>2</td>\n      <td>142</td>\n      <td></td>\n      <td>Turbo-jet</td>\n    </tr>\n  </tbody>\n</table>\n<p>3322 rows × 9 columns</p>\n</div>"
     },
     "metadata": {},
     "execution_count": 41
    }
   ],
   "source": [
    "planes = pandas.read_csv('data-csv/planes.csv')\n",
    "planes"
   ]
  },
  {
   "cell_type": "code",
   "execution_count": 42,
   "metadata": {},
   "outputs": [
    {
     "output_type": "execute_result",
     "data": {
      "text/plain": [
       "      origin  year  month  day  hour   temp   dewp  humid wind_dir  \\\n",
       "0        EWR  2013      1    1     0  37.04  21.92  53.97      230   \n",
       "1        EWR  2013      1    1     1  37.04  21.92  53.97      230   \n",
       "2        EWR  2013      1    1     2  37.94  21.92  52.09      230   \n",
       "3        EWR  2013      1    1     3  37.94     23  54.51      230   \n",
       "4        EWR  2013      1    1     4  37.94  24.08  57.04      240   \n",
       "...      ...   ...    ...  ...   ...    ...    ...    ...      ...   \n",
       "26125    LGA  2013     12   30    19  35.96  19.94  51.78      340   \n",
       "26126    LGA  2013     12   30    20  33.98  17.06  49.51      330   \n",
       "26127    LGA  2013     12   30    21     32  15.08  49.19      340   \n",
       "26128    LGA  2013     12   30    22  30.92  12.92  46.74      320   \n",
       "26129    LGA  2013     12   30    23  28.94  10.94  46.41      330   \n",
       "\n",
       "               wind_speed           wind_gust  precip pressure  visib  \\\n",
       "0      10.357019999999999  11.918651475599997     0.0   1013.9   10.0   \n",
       "1      13.809359999999998  15.891535300799996     0.0     1013   10.0   \n",
       "2      12.658579999999999  14.567240692399997     0.0   1012.6   10.0   \n",
       "3      13.809359999999998  15.891535300799996     0.0   1012.7   10.0   \n",
       "4      14.960139999999999  17.215829909199996     0.0   1012.8   10.0   \n",
       "...                   ...                 ...     ...      ...    ...   \n",
       "26125  13.809359999999998  15.891535300799996     0.0   1017.1   10.0   \n",
       "26126  17.261699999999998  19.864419125999994     0.0   1018.8   10.0   \n",
       "26127  14.960139999999999  17.215829909199996     0.0   1019.5   10.0   \n",
       "26128  17.261699999999998  19.864419125999994     0.0   1019.9   10.0   \n",
       "26129            18.41248  21.188713734399997     0.0   1020.9   10.0   \n",
       "\n",
       "                  time_hour  \n",
       "0      2013-01-01T00:00:00Z  \n",
       "1      2013-01-01T01:00:00Z  \n",
       "2      2013-01-01T02:00:00Z  \n",
       "3      2013-01-01T03:00:00Z  \n",
       "4      2013-01-01T04:00:00Z  \n",
       "...                     ...  \n",
       "26125  2013-12-30T19:00:00Z  \n",
       "26126  2013-12-30T20:00:00Z  \n",
       "26127  2013-12-30T21:00:00Z  \n",
       "26128  2013-12-30T22:00:00Z  \n",
       "26129  2013-12-30T23:00:00Z  \n",
       "\n",
       "[26130 rows x 15 columns]"
      ],
      "text/html": "<div>\n<style scoped>\n    .dataframe tbody tr th:only-of-type {\n        vertical-align: middle;\n    }\n\n    .dataframe tbody tr th {\n        vertical-align: top;\n    }\n\n    .dataframe thead th {\n        text-align: right;\n    }\n</style>\n<table border=\"1\" class=\"dataframe\">\n  <thead>\n    <tr style=\"text-align: right;\">\n      <th></th>\n      <th>origin</th>\n      <th>year</th>\n      <th>month</th>\n      <th>day</th>\n      <th>hour</th>\n      <th>temp</th>\n      <th>dewp</th>\n      <th>humid</th>\n      <th>wind_dir</th>\n      <th>wind_speed</th>\n      <th>wind_gust</th>\n      <th>precip</th>\n      <th>pressure</th>\n      <th>visib</th>\n      <th>time_hour</th>\n    </tr>\n  </thead>\n  <tbody>\n    <tr>\n      <th>0</th>\n      <td>EWR</td>\n      <td>2013</td>\n      <td>1</td>\n      <td>1</td>\n      <td>0</td>\n      <td>37.04</td>\n      <td>21.92</td>\n      <td>53.97</td>\n      <td>230</td>\n      <td>10.357019999999999</td>\n      <td>11.918651475599997</td>\n      <td>0.0</td>\n      <td>1013.9</td>\n      <td>10.0</td>\n      <td>2013-01-01T00:00:00Z</td>\n    </tr>\n    <tr>\n      <th>1</th>\n      <td>EWR</td>\n      <td>2013</td>\n      <td>1</td>\n      <td>1</td>\n      <td>1</td>\n      <td>37.04</td>\n      <td>21.92</td>\n      <td>53.97</td>\n      <td>230</td>\n      <td>13.809359999999998</td>\n      <td>15.891535300799996</td>\n      <td>0.0</td>\n      <td>1013</td>\n      <td>10.0</td>\n      <td>2013-01-01T01:00:00Z</td>\n    </tr>\n    <tr>\n      <th>2</th>\n      <td>EWR</td>\n      <td>2013</td>\n      <td>1</td>\n      <td>1</td>\n      <td>2</td>\n      <td>37.94</td>\n      <td>21.92</td>\n      <td>52.09</td>\n      <td>230</td>\n      <td>12.658579999999999</td>\n      <td>14.567240692399997</td>\n      <td>0.0</td>\n      <td>1012.6</td>\n      <td>10.0</td>\n      <td>2013-01-01T02:00:00Z</td>\n    </tr>\n    <tr>\n      <th>3</th>\n      <td>EWR</td>\n      <td>2013</td>\n      <td>1</td>\n      <td>1</td>\n      <td>3</td>\n      <td>37.94</td>\n      <td>23</td>\n      <td>54.51</td>\n      <td>230</td>\n      <td>13.809359999999998</td>\n      <td>15.891535300799996</td>\n      <td>0.0</td>\n      <td>1012.7</td>\n      <td>10.0</td>\n      <td>2013-01-01T03:00:00Z</td>\n    </tr>\n    <tr>\n      <th>4</th>\n      <td>EWR</td>\n      <td>2013</td>\n      <td>1</td>\n      <td>1</td>\n      <td>4</td>\n      <td>37.94</td>\n      <td>24.08</td>\n      <td>57.04</td>\n      <td>240</td>\n      <td>14.960139999999999</td>\n      <td>17.215829909199996</td>\n      <td>0.0</td>\n      <td>1012.8</td>\n      <td>10.0</td>\n      <td>2013-01-01T04:00:00Z</td>\n    </tr>\n    <tr>\n      <th>...</th>\n      <td>...</td>\n      <td>...</td>\n      <td>...</td>\n      <td>...</td>\n      <td>...</td>\n      <td>...</td>\n      <td>...</td>\n      <td>...</td>\n      <td>...</td>\n      <td>...</td>\n      <td>...</td>\n      <td>...</td>\n      <td>...</td>\n      <td>...</td>\n      <td>...</td>\n    </tr>\n    <tr>\n      <th>26125</th>\n      <td>LGA</td>\n      <td>2013</td>\n      <td>12</td>\n      <td>30</td>\n      <td>19</td>\n      <td>35.96</td>\n      <td>19.94</td>\n      <td>51.78</td>\n      <td>340</td>\n      <td>13.809359999999998</td>\n      <td>15.891535300799996</td>\n      <td>0.0</td>\n      <td>1017.1</td>\n      <td>10.0</td>\n      <td>2013-12-30T19:00:00Z</td>\n    </tr>\n    <tr>\n      <th>26126</th>\n      <td>LGA</td>\n      <td>2013</td>\n      <td>12</td>\n      <td>30</td>\n      <td>20</td>\n      <td>33.98</td>\n      <td>17.06</td>\n      <td>49.51</td>\n      <td>330</td>\n      <td>17.261699999999998</td>\n      <td>19.864419125999994</td>\n      <td>0.0</td>\n      <td>1018.8</td>\n      <td>10.0</td>\n      <td>2013-12-30T20:00:00Z</td>\n    </tr>\n    <tr>\n      <th>26127</th>\n      <td>LGA</td>\n      <td>2013</td>\n      <td>12</td>\n      <td>30</td>\n      <td>21</td>\n      <td>32</td>\n      <td>15.08</td>\n      <td>49.19</td>\n      <td>340</td>\n      <td>14.960139999999999</td>\n      <td>17.215829909199996</td>\n      <td>0.0</td>\n      <td>1019.5</td>\n      <td>10.0</td>\n      <td>2013-12-30T21:00:00Z</td>\n    </tr>\n    <tr>\n      <th>26128</th>\n      <td>LGA</td>\n      <td>2013</td>\n      <td>12</td>\n      <td>30</td>\n      <td>22</td>\n      <td>30.92</td>\n      <td>12.92</td>\n      <td>46.74</td>\n      <td>320</td>\n      <td>17.261699999999998</td>\n      <td>19.864419125999994</td>\n      <td>0.0</td>\n      <td>1019.9</td>\n      <td>10.0</td>\n      <td>2013-12-30T22:00:00Z</td>\n    </tr>\n    <tr>\n      <th>26129</th>\n      <td>LGA</td>\n      <td>2013</td>\n      <td>12</td>\n      <td>30</td>\n      <td>23</td>\n      <td>28.94</td>\n      <td>10.94</td>\n      <td>46.41</td>\n      <td>330</td>\n      <td>18.41248</td>\n      <td>21.188713734399997</td>\n      <td>0.0</td>\n      <td>1020.9</td>\n      <td>10.0</td>\n      <td>2013-12-30T23:00:00Z</td>\n    </tr>\n  </tbody>\n</table>\n<p>26130 rows × 15 columns</p>\n</div>"
     },
     "metadata": {},
     "execution_count": 42
    }
   ],
   "source": [
    "weather = pandas.read_csv('data-csv/weather.csv')\n",
    "weather"
   ]
  },
  {
   "source": [
    "Combien y-a-t-il d’aéroports, de compagnies, de destinations, d’avions, de fuseaux horaires et de zones aux Etats-Unis où on ne passe pas à l’heure d’été (indice : colonne dst) ?"
   ],
   "cell_type": "markdown",
   "metadata": {}
  },
  {
   "cell_type": "code",
   "execution_count": 43,
   "metadata": {},
   "outputs": [
    {
     "output_type": "stream",
     "name": "stdout",
     "text": [
      "Nombre d'aéroports ne passant pas à l'heure d'été : 23\nNombre de zones ne passant pas à l'heure d'été : 4\n"
     ]
    }
   ],
   "source": [
    "no_dst = airports[airports.dst == 'N']\n",
    "print(\"Nombre d'aéroports ne passant pas à l'heure d'été :\", len(no_dst))\n",
    "# print(\"Nombre de fuseaux horaires sans changements d'heure d'été :\", len(no_dst.groupby('tzone')))\n",
    "print(\"Nombre de zones ne passant pas à l'heure d'été :\", len(no_dst.groupby('tzone')))"
   ]
  },
  {
   "source": [
    "Quel est l’aéroport de départ le plus emprunté ?<br/>\n",
    "Quelles sont les 10 destinations les plus (moins) prisées ?<br/>\n",
    "Quelle sont les 10 avions qui ont le plus (moins) décollé ?"
   ],
   "cell_type": "markdown",
   "metadata": {}
  },
  {
   "cell_type": "code",
   "execution_count": 88,
   "metadata": {},
   "outputs": [
    {
     "output_type": "stream",
     "name": "stdout",
     "text": [
      "L'aéroport de départ le plus emprunté est : Newark Liberty Intl\nLes 10 destinations les moins prisées\n"
     ]
    },
    {
     "output_type": "execute_result",
     "data": {
      "text/plain": [
       "LGA     1\n",
       "LEX     1\n",
       "ANC     8\n",
       "SBN    10\n",
       "HDN    15\n",
       "MTJ    15\n",
       "EYW    17\n",
       "PSP    19\n",
       "JAC    25\n",
       "BZN    36\n",
       "Name: dest, dtype: int64"
      ]
     },
     "metadata": {},
     "execution_count": 88
    }
   ],
   "source": [
    "print(\n",
    "    \"L'aéroport de départ le plus emprunté est :\", \n",
    "    airports[\n",
    "        airports['faa'] == flights['origin'].value_counts().idxmax()\n",
    "    ]['name'].iloc[0]\n",
    ")\n",
    "print(\"Les 10 destinations les moins prisées\")\n",
    "flights['dest'].value_counts().sort_values(ascending=True).head(10)\n",
    "# airports[airports['faa'] == flights['dest'].value_counts().sort_values(ascending=True).head(10)]"
   ]
  },
  {
   "cell_type": "code",
   "execution_count": null,
   "metadata": {},
   "outputs": [],
   "source": []
  }
 ]
}